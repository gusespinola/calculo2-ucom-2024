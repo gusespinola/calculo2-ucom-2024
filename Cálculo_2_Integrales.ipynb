{
 "cells": [
  {
   "cell_type": "markdown",
   "metadata": {
    "id": "Zq2UvYAsE87G"
   },
   "source": [
    "\n",
    "\n",
    "# Cálculo integral\n",
    "\n",
    "Una integral indefinida es una integral sin límites, con infinito número de resultados posibles (infinitas funciones resultado, cuya derivada es el integrando).\n",
    "\n",
    "\\begin{equation} \\int x^2\\, dx = \\frac{x^3}{3} + C \\end{equation}\n",
    "\n",
    "Una integral definida, en cambio tiene límites de integración, por ejemplo:\n",
    "\n",
    "\\begin{equation} \\int_0^1 x^2\\, dx = \\frac{1}{3}. \\end{equation}\n",
    "\n",
    "Está demostrado que el resultado, numérico, está relacionado con el cálculo geométrico de áreas.\n",
    "\n",
    "## Interpretación Geométrica\n",
    "\n",
    "Por simplicidad, supongamos que tenemos una función $f(x)$ no negativa (su valor de salida $f(x)$ es mayor o igual a cero para todo valor de su entrada $x$).  Queremos entender numéricamente: ¿cuál es el área contenida entre la gráfica de la $f(x)$ y el eje $x$?"
   ]
  },
  {
   "cell_type": "code",
   "execution_count": null,
   "metadata": {
    "colab": {
     "base_uri": "https://localhost:8080/",
     "height": 479
    },
    "id": "vS6V72x-GcQx",
    "outputId": "86f221f6-64be-438f-c1e2-f9254c29771b"
   },
   "outputs": [],
   "source": [
    "# Importamos las bibliotecas básicas\n",
    "import numpy as np\n",
    "import matplotlib.pyplot as plt\n",
    "\n",
    "def f(x):\n",
    "    return x**2\n",
    "\n",
    "a = 0\n",
    "b = 1\n",
    "n = 11 # linspace genera n+1 valores de x\n",
    "x = np.linspace(a, b, n)\n",
    "y = x**2\n",
    "dx = (b-a)/(n-1)\n",
    "#print(x)\n",
    "#print(x[0:x.size-1])\n",
    "\n",
    "# Plotear (graficar) f(x)\n",
    "plt.rc('font', size=14)\n",
    "plt.plot(x, y, 'b', label='$x^2$')\n",
    "plt.xlabel('x')\n",
    "plt.ylabel('y')\n",
    "plt.grid(True)\n",
    "plt.legend()\n",
    "plt.fill_between(x,f(x))\n",
    "plt.show()"
   ]
  },
  {
   "cell_type": "markdown",
   "metadata": {
    "id": "slCAjaxlHMrY"
   },
   "source": [
    "## Integración naive (método de rectángulos)\n",
    "\n",
    "Para una integración \"cruda\", aplicamos la **Suma de Riemann**:\n",
    "\\begin{align}\n",
    "  \\sum_{i=1}^n f(x_i) \\Delta x &= \\Delta x \\cdot f(x_1) + \\Delta x \\cdot f(x_2)+ \\cdots + \\Delta x \\cdot f(x_n)\\\\\n",
    "  &=\\Delta x \\left(f(x_1)+f(x_2)+\\cdots+f(x_n)\\right)\n",
    "\\end{align}\n",
    "\n",
    "Recordemos que la letra griega $\\Sigma$ significa \"la suma de\" todos los términos de la forma $f(x_i)\\cdot \\Delta x$. En nuestro caso, eso representa la suma de las áreas de todos los rectángulos cuyas bases tienen longitud $\\Delta x$ y cuyas alturas varían según el valor de $f(x_i)$."
   ]
  },
  {
   "cell_type": "code",
   "execution_count": null,
   "metadata": {
    "id": "CfEQDF-rj1iS"
   },
   "outputs": [],
   "source": [
    "plt.plot(x, y, 'b', label='$x^2$')\n",
    "\n",
    "# Plot the rectangles\n",
    "plt.bar(x[0:x.size-1] ,y[1:x.size], dx, align='edge', alpha=0.5, edgecolor='k')\n",
    "\n",
    "# Customize the plot\n",
    "plt.xlabel('x')\n",
    "plt.ylabel('y')\n",
    "plt.title('Riemann Sum Approximation')\n",
    "plt.grid(True)\n",
    "plt.fill_between(x,f(x))\n",
    "plt.legend()"
   ]
  },
  {
   "cell_type": "markdown",
   "metadata": {
    "id": "wDwTkot4luvg"
   },
   "source": [
    "El área encima de la gráfica de $f(x)$ es un error correspondiente al mismatch entre los rectángulos y la curva. Sin embargo, a más rectángulos, menos error."
   ]
  },
  {
   "cell_type": "code",
   "execution_count": null,
   "metadata": {
    "id": "9CdHEsWRHUvB"
   },
   "outputs": [],
   "source": [
    "# prompt: Compute dx*f(x(i)) for all i that are elements of vector x\n",
    "\n",
    "# Assuming 'x', 'y', and 'dx' are defined as in the provided code\n",
    "# a = 0\n",
    "# b = 1\n",
    "# n = 11  # linspace generates n+1 values of x\n",
    "# x = np.linspace(a, b, n)\n",
    "# y = x**2\n",
    "# dx = (b-a)/(n-1)\n",
    "\n",
    "# Compute dx * f(x(i)) for all i\n",
    "result1 = dx * y[1:x.size]  # Los valores de i son los f(x(i)), excepto el primer elemento\n",
    "result2 = dx * y[0:x.size-1]  # Los valores de i son los f(x(i)), excepto el ultimo elemento\n",
    "result = 0.5 * (result1 + result2)\n",
    "area = np.sum(result)\n",
    "print(\"Area:\", area)"
   ]
  },
  {
   "cell_type": "markdown",
   "metadata": {
    "id": "yqmCdShKKshv"
   },
   "source": [
    "## Integración numérica o cuadratura\n",
    "\n",
    "Una función más \"limpia\" de usar podría ser la función `scipy.integrate.quad` (la abreviatura viene de *quadrature*, otra forma de llamar a la integración) que ya solicita la función, el límite inferior y el límite superior."
   ]
  },
  {
   "cell_type": "code",
   "execution_count": null,
   "metadata": {
    "id": "XWCSgJIjLL1q"
   },
   "outputs": [],
   "source": [
    "from scipy.integrate import quad\n",
    "def f(x):\n",
    "  return x**2\n",
    "\n",
    "xlo = 0\n",
    "xhi = 1\n",
    "\n",
    "I_quad, err = quad(f, xlo, xhi)\n",
    "\n",
    "print(\"I_quad = \", I_quad)\n",
    "print(\"error = \", err)"
   ]
  },
  {
   "cell_type": "markdown",
   "metadata": {
    "id": "bw_OWlJbl_Gz"
   },
   "source": [
    "La [*cuadratura*](https://es.wikipedia.org/wiki/Integraci%C3%B3n_num%C3%A9rica) es el proceso de integración numérica que *trata de reproducir fielmente la curvatura de* $f(x)$. Los métodos más conocidos son: la **regla del punto medio**, la **regla del trapecio**, la **regla de Simpson**, etc."
   ]
  }
 ],
 "metadata": {
  "colab": {
   "authorship_tag": "ABX9TyPIS0adDLsNcd8/wTaBdLVZ",
   "provenance": []
  },
  "kernelspec": {
   "display_name": "Python 3 (ipykernel)",
   "language": "python",
   "name": "python3"
  },
  "language_info": {
   "codemirror_mode": {
    "name": "ipython",
    "version": 3
   },
   "file_extension": ".py",
   "mimetype": "text/x-python",
   "name": "python",
   "nbconvert_exporter": "python",
   "pygments_lexer": "ipython3",
   "version": "3.9.19"
  }
 },
 "nbformat": 4,
 "nbformat_minor": 4
}
