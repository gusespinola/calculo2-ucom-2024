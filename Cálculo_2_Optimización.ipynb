{
 "cells": [
  {
   "cell_type": "markdown",
   "metadata": {
    "id": "sbJo64PwrY1G"
   },
   "source": [
    "# Optimizando funciones de una variable: minimización de costos\n",
    "\n",
    "Original en inglés: [Optimizing Functions of One Variable: Cost Minimization](https://github.com/Ryota-Kawamura/Mathematics-for-Machine-Learning-and-Data-Science-Specialization/blob/main/Course-2/Week-1/C2_W1_Assignment.ipynb)\n",
    "\n",
    "\n",
    "En esta tarea, usted resolverá un problema de optimización simple para una función de una variable. Dado un conjunto de datos de precios históricos de un producto de dos proveedores, su tarea es identificar qué proporción del producto debería comprar a cada uno de los proveedores para realizar la mejor inversión posible en el futuro. Al formular el problema matemáticamente, construirá una función objetivo para minimizar, evaluará su mínimo e investigará cómo se relaciona su derivada con el resultado.\n",
    "\n",
    "# Tabla de contenidos\n",
    "\n",
    "## 1 - Planteamiento del problema de optimización\n",
    "\n",
    "### 1.1 - Descripción del problema\n",
    "\n",
    "Una empresa tiene como objetivo minimizar los costos de producción de algunos bienes. Durante el proceso de producción, se utiliza un producto esencial $P$, que puede ser suministrado por uno de dos socios: el proveedor $A$ y el proveedor $B$. Sus consultores solicitaron los precios históricos del producto $P$ a los proveedores $A$ y $B$, que se proporcionaron como promedios mensuales para el período de febrero de 2018 a marzo de 2020.\n",
    "\n",
    "Al preparar el presupuesto de la empresa para el próximo período de doce meses, su plan es comprar la misma cantidad de producto $P$ mensualmente. Al elegir el proveedor, notó que hubo algunos períodos en el pasado en los que sería más rentable utilizar el proveedor $A$ (los precios del producto $P$ eran más bajos) y otros períodos en los que trabajar con el proveedor $B$. Para el modelo de presupuesto, puede establecer un porcentaje de los bienes que se comprarán al proveedor $A$ (por ejemplo, 60%) y la parte restante al proveedor $B$ (por ejemplo, 40%), pero esta división debe mantenerse constante durante todo el período de doce meses. El presupuesto se utilizará en la preparación de las negociaciones del contrato con ambos proveedores.\n",
    "\n",
    "En base a los precios históricos, ¿existe un porcentaje en particular que será más rentable suministrar a la empresa $A$ y el resto a la empresa $B$? ¿O tal vez no importe y se pueda trabajar solo con uno de los proveedores?\n",
    "\n",
    "### 1.2 - Formulación matemática del problema\n",
    "\n",
    "Denominamos los precios del producto $P$ de la Empresa $A$ y la Empresa $B$ como $p_A$ (en dólares norteamericanos o USD) y $p_B$ (en USD) respectivamente, y el volumen del producto a suministrar por mes como $n$ (unidades), el costo total en USD es:\n",
    "\n",
    "\\begin{equation}\n",
    "f\\left(\\omega\\right) = p_A \\omega \\,n+ p_B \\left(1 - \\omega\\right) n\n",
    "\\end{equation}\n",
    "\n",
    "Obviamente, no conoces los precios futuros $p_A$ y $p_B$, solo los valores históricos (precios $\\{p_A^1, \\cdots, p_A^k\\}$ y $\\{p_B^1, \\cdots, p_B^k\\}$ para $k$ meses). E históricamente hubo varios períodos de tiempo en los que era mejor tomar $\\omega = 1$ ($p_A^i < p_B^i$) o $\\omega = 0$ ($p_A^i >p_B^i$). ¿Es posible ahora elegir algún valor de $\\omega$ que proporcione alguna evidencia de costos mínimos en el futuro?\n",
    "\n",
    "### 1.3 - Enfoque de solución\n",
    "\n",
    "Este es un problema estándar de **gestión de cartera** (inversión) muy conocido en estadística, en el que, en función de los precios históricos, es necesario tomar decisiones de inversión para maximizar las ganancias (minimizar los costos). Dado que en este curso no se han abordado cálculos estadísticas, no es necesario que comprenda los detalles sobre la función $\\mathcal{L}\\left(\\omega\\right)$ (llamada **función de pérdida**) para minimizar, que se explica en el siguiente párrafo.\n",
    "\n",
    "El enfoque consiste en calcular $f\\left(\\omega\\right)$ para cada uno de los precios históricos $p_A^i$ y $p_B^i$, $f^i\\left(\\omega\\right)=p_A^i \\omega+ p_B^i \\left(1 - \\omega\\right)$. Luego, toma un promedio de esos valores, $\\overline{f\\left (\\omega\\right)}=\\text{mean}\\left(f^i\\left(\\omega\\right)\\right) = \\frac{1}{k}\\sum_{i=1}^{k}f^i\\left(\\omega\\right)$ y busca el valor de $\\omega$ que haga que $f^i\\left(\\omega\\right)$ sea lo más \"estable\" posible, variando lo menos posible del promedio $\\overline{f\\left (\\omega\\right)}$. Esto significa que querrás minimizar la suma de las diferencias $\\left(f^i \\left(\\omega\\right) - \\overline{f\\left (\\omega\\right)}\\right)$. Como las diferencias pueden ser negativas o positivas, un enfoque común es tomar los cuadrados de éstas y sacar un promedio de los cuadrados:\n",
    "\n",
    "\\begin{equation}\n",
    "\\mathcal{L}\\left(\\omega\\right) = \\frac{1}{k}\\sum_{i=1}^{k}\\left(f^i \\left(\\omega\\right) -  \\overline{f\\left (\\omega\\right)}\\right)^2\\tag{2}\n",
    "\\end{equation}\n",
    "\n",
    "En estadística, $\\mathcal{L}\\left(\\omega\\right)$ se denomina varianza de $\\{f^1 \\left(\\omega\\right), \\cdots , f^k \\left(\\omega\\right)\\}$. El objetivo es minimizar la varianza $\\mathcal{L}\\left(\\omega\\right)$, donde $\\omega\\in\\left[0, 1\\right]$. Nuevamente, no se preocupe si no comprende profundamente por qué se eligió en particular esta función $\\mathcal{L}\\left(\\omega\\right)$. Se podría pensar que es lógico minimizar un promedio $\\overline{f\\left (\\omega\\right)}$, pero la teoría de [gestión de riesgos](https://www.thebalancemoney.com/minimum-variance-portfolio-overview-4155796#:~:text=A%20minimum%20variance%20portfolio%20is,other%20out%20when%20held%20together.) establece que en este problema es necesario optimizar la varianza.\n",
    "\n",
    "## 2 - Optimizando una función de una variable en Python\n",
    "\n",
    "### 2.1 - Paquetes\n",
    "\n",
    "Importemos todos los paquetes necesarios. Deberá importar la biblioteca \"pandas\", el paquete que se utiliza habitualmente para la manipulación y el análisis de datos."
   ]
  },
  {
   "cell_type": "code",
   "execution_count": null,
   "metadata": {
    "id": "CoJ5ZgB3sy3N"
   },
   "outputs": [],
   "source": [
    "# A function to perform automatic differentiation.\n",
    "from jax import grad\n",
    "# A wrapped version of NumPy to use JAX primitives.\n",
    "import jax.numpy as np\n",
    "# A library for programmatic plot generation.\n",
    "import matplotlib.pyplot as plt\n",
    "# A library for data manipulation and analysis.\n",
    "import pandas as pd\n",
    "\n",
    "# A magic command to make output of plotting commands displayed inline within the Jupyter notebook.\n",
    "%matplotlib inline"
   ]
  },
  {
   "cell_type": "markdown",
   "metadata": {
    "id": "iYX9CKeEtJqH"
   },
   "source": [
    "### 2.2 - Abrir y analizar el conjunto de datos\n",
    "\n",
    "Los precios históricos de los proveedores A y B se guardan en el archivo `data/prices.csv`. Para abrirlo, puede utilizar la función `read_csv` de `pandas`. Este ejemplo es muy sencillo, no es necesario utilizar ningún otro parámetro."
   ]
  },
  {
   "cell_type": "code",
   "execution_count": null,
   "metadata": {
    "id": "p7etcViGuFSg"
   },
   "outputs": [],
   "source": [
    "df = pd.read_csv('https://raw.githubusercontent.com/Ryota-Kawamura/Mathematics-for-Machine-Learning-and-Data-Science-Specialization/refs/heads/main/Course-2/Week-1/data/prices.csv')"
   ]
  },
  {
   "cell_type": "markdown",
   "metadata": {
    "id": "V3nGgH4MubNz"
   },
   "source": [
    "Los datos ahora se guardan en la variable `df` como un **DataFrame**, que es el objeto `pandas` más comúnmente utilizado. Es una estructura de datos etiquetada bidimensional con columnas de tipos potencialmente diferentes. Puedes pensar en ella como una tabla o una hoja de cálculo. Puedes encontrar la documentación completa [aquí](https://pandas.pydata.org/).\n",
    "\n",
    "Ver los datos con una función `print` estándar:"
   ]
  },
  {
   "cell_type": "code",
   "execution_count": null,
   "metadata": {
    "colab": {
     "base_uri": "https://localhost:8080/"
    },
    "id": "f8Fm04rBu-9U",
    "outputId": "9a46d054-1907-4e9c-ec6e-991ba0942a9d"
   },
   "outputs": [],
   "source": [
    "print(df)"
   ]
  },
  {
   "cell_type": "markdown",
   "metadata": {
    "id": "Qaxf7yOSvL2j"
   },
   "source": [
    "Para imprimir una lista de los nombres de las columnas, utilice el atributo `columns` del DataFrame:"
   ]
  },
  {
   "cell_type": "code",
   "execution_count": null,
   "metadata": {
    "colab": {
     "base_uri": "https://localhost:8080/"
    },
    "id": "XXZonrBrvQGe",
    "outputId": "51e4a470-4497-41d7-c198-0e35ca1d655a"
   },
   "outputs": [],
   "source": [
    "print(df.columns)"
   ]
  },
  {
   "cell_type": "markdown",
   "metadata": {
    "id": "7vwuaH-WveAK"
   },
   "source": [
    "Al revisar la tabla mostrada y los nombres de las columnas, puede concluir que se proporcionan los precios mensuales (en USD) y que solo necesita los datos de las columnas `price_supplier_a_dollars_per_item` y `price_supplier_b_dollars_per_item`. En la vida real, los conjuntos de datos son significativamente más grandes y requieren una revisión y limpieza adecuadas antes de la inyección en los modelos. Pero este no es el objetivo de este curso.\n",
    "\n",
    "Para acceder a los valores de una columna del DataFrame, puede usar el nombre de la columna como atributo. Por ejemplo, el siguiente código generará la columna `date` del DataFrame `df`:"
   ]
  },
  {
   "cell_type": "code",
   "execution_count": null,
   "metadata": {
    "colab": {
     "base_uri": "https://localhost:8080/",
     "height": 1000
    },
    "id": "xEPWCVnMvlYG",
    "outputId": "cafc377e-50e1-4d25-fc31-12357251f196"
   },
   "outputs": [],
   "source": [
    "df.date"
   ]
  },
  {
   "cell_type": "markdown",
   "metadata": {
    "id": "I-Y8wgStvr9a"
   },
   "source": [
    "### Ejercicio 1\n",
    "\n",
    "Cargue los precios históricos del proveedor A y del proveedor B en las variables `prices_A` y `prices_B`, respectivamente. Convierta los valores de precios en matrices `NumPy` con elementos de tipo `float32` mediante la función `np.array`.\n",
    "\n",
    "**Pista**\n",
    "\n",
    "- Los precios correspondientes se encuentran en el DataFrame `df`, columnas `price_supplier_a_dollars_per_item` y `price_supplier_b_dollars_per_item`.\n",
    "\n",
    "- La conversión a la matriz `NumPy` se puede realizar con la función `np.array`."
   ]
  },
  {
   "cell_type": "code",
   "execution_count": null,
   "metadata": {
    "id": "yZa2h549wXXP"
   },
   "outputs": [],
   "source": [
    "### START CODE HERE ### (~ 4 lines of code)\n",
    "prices_A = df.price_supplier_a_dollars_per_item\n",
    "prices_B = df.price_supplier_b_dollars_per_item\n",
    "prices_A = np.array(prices_A).astype('float32')\n",
    "prices_B = np.array(prices_B).astype('float32')\n",
    "### END CODE HERE ###"
   ]
  },
  {
   "cell_type": "code",
   "execution_count": null,
   "metadata": {
    "colab": {
     "base_uri": "https://localhost:8080/"
    },
    "id": "6u-Wq6Uwy0DY",
    "outputId": "ec7cb44c-8fa0-43ce-820d-7868686be075"
   },
   "outputs": [],
   "source": [
    "# Print some elements and mean values of the prices_A and prices_B arrays.\n",
    "print(\"Some prices of supplier A:\", prices_A[0:5])\n",
    "print(\"Some prices of supplier B:\", prices_B[0:5])\n",
    "print(\"Average of the prices, supplier A:\", np.mean(prices_A))\n",
    "print(\"Average of the prices, supplier B:\", np.mean(prices_B))"
   ]
  },
  {
   "cell_type": "markdown",
   "metadata": {
    "id": "_ziQ3IFgzCZg"
   },
   "source": [
    "Los precios promedio de ambos proveedores son similares, pero si vemos las gráficas de los precios históricos, veremos que hubo períodos en los que los precios fueron más bajos para el proveedor $A$ y viceversa."
   ]
  },
  {
   "cell_type": "code",
   "execution_count": null,
   "metadata": {
    "colab": {
     "base_uri": "https://localhost:8080/",
     "height": 450
    },
    "id": "Fuc-44-WzKMa",
    "outputId": "53560d9f-57f7-4ab5-832a-572a705769c9",
    "scrolled": true
   },
   "outputs": [],
   "source": [
    "fig = plt.figure()\n",
    "ax = fig.add_subplot(1, 1, 1)\n",
    "plt.plot(prices_A, 'g', label=\"Supplier A\")\n",
    "plt.plot(prices_B, 'b', label=\"Supplier B\")\n",
    "plt.legend()\n",
    "\n",
    "plt.show()"
   ]
  },
  {
   "cell_type": "markdown",
   "metadata": {
    "id": "2EHIeVezzgKM"
   },
   "source": [
    "Con base en los datos históricos, ¿puede decir con qué proveedor será más rentable trabajar? Como se explicó en la sección [1.3](#1.3), debe encontrar un $\\omega \\in \\left[0, 1\\right]$ que minimice la función $(2)$."
   ]
  },
  {
   "cell_type": "markdown",
   "metadata": {
    "id": "Eaut050iz0jz"
   },
   "source": [
    "### 2.3 - Construyendo la función $\\mathcal{L}$ para optimizar y encontrar su punto\n",
    "\n",
    "### Ejercicio 2\n",
    "\n",
    "Crea la función de `Python` llamada `f_of_omega`, correspondiente a $f^i\\left(\\omega\\right)=p_A^i \\omega+ p_B^i \\left(1 - \\omega\\right)$. Los precios $\\{p_A^1, \\cdots, p_A^k\\}$ y $\\{p_B^1, \\cdots, p_B^k\\}$ se guardan en las matrices `prices_A` y `prices_B`. Por lo tanto, al multiplicarlos por los escalares `omega` y `1 - omega` y sumar las matrices resultantes, obtendrá una matriz que contiene $\\{f^1\\left(\\omega\\right), \\cdots, f^k\\left(\\omega\\right)\\}$."
   ]
  },
  {
   "cell_type": "code",
   "execution_count": null,
   "metadata": {
    "id": "M4arik2X0TJf"
   },
   "outputs": [],
   "source": [
    "def f_of_omega(omega):\n",
    "    ### START CODE HERE ### (~ 1 line of code)\n",
    "    f = prices_A * omega + prices_B * (1 - omega)\n",
    "    ### END CODE HERE ###\n",
    "    return f\n",
    "\n",
    "def L_of_omega(omega):\n",
    "    return 1/len(f_of_omega(omega)) * np.sum((f_of_omega(omega) - np.mean(f_of_omega(omega)))**2)"
   ]
  },
  {
   "cell_type": "code",
   "execution_count": null,
   "metadata": {
    "colab": {
     "base_uri": "https://localhost:8080/"
    },
    "id": "U6tMbq09z8TZ",
    "outputId": "e2f0025e-84a4-4cdd-8451-309079a6222f"
   },
   "outputs": [],
   "source": [
    "print(\"L(omega = 0) =\",L_of_omega(0))\n",
    "print(\"L(omega = 0.2) =\",L_of_omega(0.2))\n",
    "print(\"L(omega = 0.8) =\",L_of_omega(0.8))\n",
    "print(\"L(omega = 1) =\",L_of_omega(1))"
   ]
  },
  {
   "cell_type": "markdown",
   "metadata": {
    "id": "NcOMeNNZ0hHs"
   },
   "source": [
    "**Salida esperada**\n",
    "```\n",
    "L(omega = 0) = 110.72\n",
    "L(omega = 0.2) = 61.156807\n",
    "L(omega = 0.8) = 11.212797\n",
    "L(omega = 1) = 27.48\n",
    "```\n",
    "\n",
    "Analizando el resultado anterior, puedes notar que los valores de la función $\\mathcal{L}$ disminuyen para $\\omega$ aumentando de $0$ a $0.2$, luego a $0.8$, pero hay un aumento de la función $\\mathcal{L}$ cuando $\\omega = 1$. ¿Cuál será el $\\omega$ que dará el valor mínimo de la función $\\mathcal{L}$?\n",
    "\n",
    "En este ejemplo simple $\\mathcal{L}\\left(\\omega\\right)$ es una función de una variable y el problema de encontrar su punto mínimo con cierta precisión es una tarea trivial. Solo necesitas calcular los valores de la función para cada $\\omega = 0, 0.001, 0.002, \\cdots , 1$ y encontrar el elemento mínimo de la matriz resultante.\n",
    "\n",
    "La función `L_of_omega` no funcionará si pasa una matriz en lugar de un único valor de `omega` (no fue diseñada para eso). Es posible reescribirla de una manera que sea posible, pero en este caso no es necesario hacerlo ahora mismo: puede calcular los valores resultantes en el bucle, ya que no habrá tantos."
   ]
  },
  {
   "cell_type": "markdown",
   "metadata": {
    "id": "R9Mzl8UK1qPe"
   },
   "source": [
    "### Ejercicio 3\n",
    "\n",
    "Evalúa la función `L_of_omega` para cada uno de los elementos del array `omega_array` y pasa el resultado al elemento correspondiente del array `L_array` con la función `.at[<index>].set(<value>)`.\n",
    "\n",
    "*Nota*: se ha cargado `jax.numpy` en lugar del `NumPy` original. Hasta este momento, la funcionalidad `jax` no se ha utilizado realmente, pero se llamará en las celdas siguientes. Por lo tanto, no fue necesario cargar ambas versiones del paquete, y debes usar la función `.at[<index>].set(<value>)` para actualizar el array."
   ]
  },
  {
   "cell_type": "code",
   "execution_count": null,
   "metadata": {
    "id": "OFagjd6H1_uY"
   },
   "outputs": [],
   "source": [
    "# Parameter endpoint=True will allow ending point 1 to be included in the array.\n",
    "# This is why it is better to take N = 1001, not N = 1000\n",
    "N = 1001\n",
    "omega_array = np.linspace(0, 1, N, endpoint=True)\n",
    "\n",
    "# This is organised as a function only for grading purposes.\n",
    "def L_of_omega_array(omega_array):\n",
    "    N = len(omega_array)\n",
    "    L_array = np.zeros(N)\n",
    "\n",
    "    for i in range(N):\n",
    "        ### START CODE HERE ### (~ 2 lines of code)\n",
    "        L = L_of_omega(omega_array[i])\n",
    "        L_array = L_array.at[i].set(L)\n",
    "        ### END CODE HERE ###\n",
    "\n",
    "    return L_array\n",
    "\n",
    "L_array = L_of_omega_array(omega_array)"
   ]
  },
  {
   "cell_type": "code",
   "execution_count": null,
   "metadata": {
    "colab": {
     "base_uri": "https://localhost:8080/"
    },
    "id": "nGhn8xWN2Iqf",
    "outputId": "40079b43-01a8-44ae-8f5c-aabf3fe52171"
   },
   "outputs": [],
   "source": [
    "print(\"L(omega = 0) =\",L_array[0])\n",
    "print(\"L(omega = 1) =\",L_array[N-1])"
   ]
  },
  {
   "cell_type": "markdown",
   "metadata": {
    "id": "Q8KBFkYi2Nk5"
   },
   "source": [
    "**Salida esperada**\n",
    "\n",
    "```\n",
    "L(omega = 0) = 110.72\n",
    "L(omega = 1) = 27.48\n",
    "```\n",
    "\n",
    "Ahora se puede encontrar un punto mínimo de la función $\\mathcal{L}\\left(\\omega\\right)$ con una función `NumPy` llamada `argmin()`. Como se tomaron $N = 1001$ puntos en el segmento $\\left[0, 1\\right]$, el resultado será preciso hasta tres decimales:"
   ]
  },
  {
   "cell_type": "code",
   "execution_count": null,
   "metadata": {
    "colab": {
     "base_uri": "https://localhost:8080/"
    },
    "id": "w2ACN8Ht2ryK",
    "outputId": "a542d812-67d5-4056-b8ed-c5656b94b01e"
   },
   "outputs": [],
   "source": [
    "i_opt = L_array.argmin()\n",
    "omega_opt = omega_array[i_opt]\n",
    "L_opt = L_array[i_opt]\n",
    "print(f'omega_min = {omega_opt:.3f}\\nL_of_omega_min = {L_opt:.7f}')"
   ]
  },
  {
   "cell_type": "markdown",
   "metadata": {
    "id": "mRIAjTf122xM"
   },
   "source": [
    "Este resultado significa que, según los datos históricos, se espera que $\\omega = 0,702$ sea la opción más rentable para la distribución entre los proveedores A y B. Es razonable planificar que el $70,2\\%$ del producto P sea suministrado por la Compañía A y el $29,8\\%$ por la Compañía B.\n",
    "\n",
    "Si desea mejorar la precisión, solo necesita aumentar la cantidad de puntos N. Este es un ejemplo muy simple de un modelo con un parámetro, lo que da como resultado la optimización de una función de una variable. Es computacionalmente barato evaluarlo en muchos puntos para encontrar el mínimo con cierta precisión. Pero en el aprendizaje automático, los modelos tienen cientos de parámetros; con un enfoque similar, necesitaría realizar millones de evaluaciones de la función objetivo. Esto no es posible en la mayoría de los casos, y ahí es donde entra en juego el cálculo con sus métodos y enfoques.\n",
    "\n",
    "[comment]: En las próximas semanas de este curso, aprenderá a optimizar funciones multivariadas mediante la diferenciación. Pero por ahora, como estás en la curva de aprendizaje, evaluemos la derivada de la función $\\mathcal{L}\\left(\\omega\\right)$ en los puntos guardados en la matriz `omega_array` para verificar que en el punto mínimo la derivada es en realidad la más cercana a cero."
   ]
  },
  {
   "cell_type": "markdown",
   "metadata": {
    "id": "TLBRto0r4Iho"
   },
   "source": [
    "### Ejercicio 4\n",
    "\n",
    "Para cada $\\omega$ en el `omega_array` calcula $\\frac{d\\mathcal{L}}{d\\omega}$ usando la función `grad()` de la biblioteca `JAX` (**La abreviatura** `grad` **proviene de**  *gradiente*, **otra palabra de la literatura científica y técnica para \"derivada\"**). Recuerda que necesitas pasar la función que quieres diferenciar (aquí $\\mathcal{L}\\left(\\omega\\right)$) como argumento de la función `grad()` y luego evaluar la derivada para el elemento correspondiente del `omega_array`. Luego pasa el resultado al elemento correspondiente del array `dLdOmega_array` con la función `.at[<index>].set(<value>)`."
   ]
  },
  {
   "cell_type": "code",
   "execution_count": null,
   "metadata": {
    "id": "9hlrYthr4vwO"
   },
   "outputs": [],
   "source": [
    "# This is organised as a function only for grading purposes.\n",
    "def dLdOmega_of_omega_array(omega_array):\n",
    "    N = len(omega_array)\n",
    "    dLdOmega_array = np.zeros(N)\n",
    "\n",
    "    for i in range(N):\n",
    "        ### START CODE HERE ### (~ 2 lines of code)\n",
    "        dLdOmega = grad(L_of_omega)(omega_array[i])\n",
    "        dLdOmega_array = dLdOmega_array.at[i].set(dLdOmega)\n",
    "        ### END CODE HERE ###\n",
    "\n",
    "    return dLdOmega_array\n",
    "\n",
    "dLdOmega_array = dLdOmega_of_omega_array(omega_array)"
   ]
  },
  {
   "cell_type": "code",
   "execution_count": null,
   "metadata": {
    "colab": {
     "base_uri": "https://localhost:8080/"
    },
    "id": "HzNI83mJ439C",
    "outputId": "2a048682-8bd7-4bfe-bc53-f5ff5c0e1191"
   },
   "outputs": [],
   "source": [
    "print(\"dLdOmega(omega = 0) =\",dLdOmega_array[0])\n",
    "print(\"dLdOmega(omega = 1) =\",dLdOmega_array[N-1])"
   ]
  },
  {
   "cell_type": "markdown",
   "metadata": {
    "id": "cNp-xzoU45gv"
   },
   "source": [
    "**Salida esperada**\n",
    "```\n",
    "dLdOmega(omega = 0) = -288.96\n",
    "dLdOmega(omega = 1) = 122.47999\n",
    "```\n",
    "\n",
    "Ahora, para encontrar el valor más cercano de la derivada a $0$, tome los valores absolutos $\\left|\\frac{d\\mathcal{L}}{d\\omega}\\right|$ para cada omega y encuentre el mínimo de ellos."
   ]
  },
  {
   "cell_type": "code",
   "execution_count": null,
   "metadata": {
    "colab": {
     "base_uri": "https://localhost:8080/"
    },
    "id": "17CXAuQm5Q5S",
    "outputId": "819822a4-6e0e-4424-9ab3-388d77c5fc13"
   },
   "outputs": [],
   "source": [
    "i_opt_2 = np.abs(dLdOmega_array).argmin()\n",
    "omega_opt_2 = omega_array[i_opt_2]\n",
    "dLdOmega_opt_2 = dLdOmega_array[i_opt_2]\n",
    "print(f'omega_min = {omega_opt_2:.3f}\\ndLdOmega_min = {dLdOmega_opt_2:.7f}')"
   ]
  },
  {
   "cell_type": "markdown",
   "metadata": {
    "id": "GCisyiuQ5ZXW"
   },
   "source": [
    "El resultado es el mismo: $\\omega = 0.702$. Grafiquemos $\\mathcal{L}\\left(\\omega\\right)$ y $\\frac{d\\mathcal{L}}{d\\omega}$ para visualizar sus gráficas, el punto mínimo de la función $\\mathcal{L}\\left(\\omega\\right)$ y el punto donde su derivada está alrededor de $0$:"
   ]
  },
  {
   "cell_type": "code",
   "execution_count": null,
   "metadata": {
    "colab": {
     "base_uri": "https://localhost:8080/",
     "height": 427
    },
    "id": "UKTe0DFz5d2h",
    "outputId": "682f0c3a-d6fc-4fb9-ef15-70a236bdb529"
   },
   "outputs": [],
   "source": [
    "fig = plt.figure()\n",
    "ax = fig.add_subplot(1, 1, 1)\n",
    "# Setting the axes at the origin.\n",
    "ax.spines['left'].set_position('zero')\n",
    "ax.spines['bottom'].set_position('zero')\n",
    "ax.spines['right'].set_color('none')\n",
    "ax.spines['top'].set_color('none')\n",
    "ax.xaxis.set_ticks_position('bottom')\n",
    "ax.yaxis.set_ticks_position('left')\n",
    "\n",
    "plt.plot(omega_array,  L_array, \"black\", label = \"$\\mathcal{L}\\\\left(\\omega\\\\right)$\")\n",
    "plt.plot(omega_array,  dLdOmega_array, \"orange\", label = \"$\\mathcal{L}\\'\\\\left(\\omega\\\\right)$\")\n",
    "plt.plot([omega_opt, omega_opt_2], [L_opt,dLdOmega_opt_2], 'ro', markersize=3)\n",
    "\n",
    "plt.legend()\n",
    "\n",
    "plt.show()"
   ]
  },
  {
   "cell_type": "markdown",
   "metadata": {
    "id": "sJ57PkeE5ob3"
   },
   "source": [
    "¡Felicitaciones! ¡Has terminado la tarea! Este ejemplo ilustra cómo pueden aparecer los problemas de optimización en la vida real y te da la oportunidad de explorar el caso simple de minimizar una función con una variable. ¡Ahora es el momento de aprender sobre la optimización de funciones multivariadas!"
   ]
  }
 ],
 "metadata": {
  "colab": {
   "authorship_tag": "ABX9TyNUAwpP1/VaDzpbOAHkjF8e",
   "provenance": []
  },
  "kernelspec": {
   "display_name": "Python 3 (ipykernel)",
   "language": "python",
   "name": "python3"
  },
  "language_info": {
   "codemirror_mode": {
    "name": "ipython",
    "version": 3
   },
   "file_extension": ".py",
   "mimetype": "text/x-python",
   "name": "python",
   "nbconvert_exporter": "python",
   "pygments_lexer": "ipython3",
   "version": "3.9.19"
  }
 },
 "nbformat": 4,
 "nbformat_minor": 4
}
